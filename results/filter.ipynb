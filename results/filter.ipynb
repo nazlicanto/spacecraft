{
 "cells": [
  {
   "cell_type": "code",
   "execution_count": null,
   "metadata": {},
   "outputs": [],
   "source": [
    "import pandas as pd\n",
    "import cv2\n",
    "import pandas as pd\n",
    "from pathlib import Path\n"
   ]
  },
  {
   "cell_type": "code",
   "execution_count": null,
   "metadata": {},
   "outputs": [],
   "source": [
    "# filtering full actual label data into partial / to compare with partial predicted label data jaccard\n",
    "\n",
    "def filter_and_save_actual_labels(predictions_path, actual_path, output_path):\n",
    "    predictions_df = pd.read_csv(predictions_path)\n",
    "    predictions_df['image_id'] = predictions_df['image_id'].str.replace('.png', '')\n",
    "\n",
    "    actual_df = pd.read_csv(actual_path)\n",
    "    filtered_actual_df = actual_df[actual_df['image_id'].isin(predictions_df['image_id'])]\n",
    "    filtered_actual_df.to_csv(output_path, index=False)\n",
    "    print(f\"filtered actual labels saved to {output_path}\")\n",
    "\n",
    "predictions_path = '../predictions_full_640.csv'\n",
    "actual_path = '../actual_train_labels.csv'\n",
    "output_path = '../actual_partial_labels.csv'\n",
    "\n",
    "filter_and_save_actual_labels(predictions_path, actual_path, output_path)\n"
   ]
  },
  {
   "cell_type": "code",
   "execution_count": null,
   "metadata": {},
   "outputs": [],
   "source": [
    "def draw_boxes(image_dir, predictions_csv, output_dir):\n",
    "    Path(output_dir).mkdir(parents=True, exist_ok=True)\n",
    "\n",
    "    df = pd.read_csv(predictions_csv)\n",
    "\n",
    "    for _, row in df.iterrows():\n",
    "        image_path = Path(image_dir) / row['image_id'] \n",
    "        output_path = Path(output_dir) / row['image_id'] + \".png\"\n",
    "\n",
    "        # loadig image\n",
    "        img = cv2.imread(str(image_path))\n",
    "        if img is None:\n",
    "            print(f\"Image not found: {image_path}\")\n",
    "            continue\n",
    "\n",
    "        # draw \n",
    "        xmin, ymin, xmax, ymax = row['xmin'], row['ymin'], row['xmax'], row['ymax']\n",
    "        cv2.rectangle(img, (xmin, ymin), (xmax, ymax), (0, 255, 0), 2)\n",
    "\n",
    "        cv2.imwrite(str(output_path), img)\n",
    "        print(f\"Processed and saved: {output_path}\")\n",
    "\n",
    "if __name__ == \"__main__\":\n",
    "    image_dir = '/home/ubuntu/aicr/nasa/subspace/data/images'\n",
    "    predictions_csv = '/home/ubuntu/aicr/nasa/subspace/sub/pred_full_640_1_.csv'\n",
    "    output_dir = '/home/ubuntu/aicr/nasa/subspace/processed2'\n",
    "\n",
    "    draw_boxes(image_dir, predictions_csv, output_dir)\n"
   ]
  },
  {
   "cell_type": "code",
   "execution_count": null,
   "metadata": {},
   "outputs": [],
   "source": []
  }
 ],
 "metadata": {
  "kernelspec": {
   "display_name": "yolov8",
   "language": "python",
   "name": "python3"
  },
  "language_info": {
   "codemirror_mode": {
    "name": "ipython",
    "version": 3
   },
   "file_extension": ".py",
   "mimetype": "text/x-python",
   "name": "python",
   "nbconvert_exporter": "python",
   "pygments_lexer": "ipython3",
   "version": "3.8.19"
  }
 },
 "nbformat": 4,
 "nbformat_minor": 2
}
